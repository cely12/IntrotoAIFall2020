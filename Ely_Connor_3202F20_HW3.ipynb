{
 "cells": [
  {
   "cell_type": "markdown",
   "metadata": {},
   "source": [
    "## <a id='top'></a>\n",
    "\n",
    "# CSCI 3202, Fall 2020\n",
    "# Assignment 3\n",
    "# Due: Monday 16 November 2020 by 11:59 PM\n",
    "\n",
    "<br> \n",
    "\n",
    "### Your name: Connor Ely\n",
    "\n",
    "<br> "
   ]
  },
  {
   "cell_type": "code",
   "execution_count": 1,
   "metadata": {},
   "outputs": [],
   "source": [
    "import numpy as np\n",
    "import matplotlib.pyplot as plt\n",
    "from scipy import stats\n",
    "import scipy.integrate as integrate\n",
    "import unittest\n",
    "from math import floor, isclose\n",
    "from scipy.optimize import minimize"
   ]
  },
  {
   "cell_type": "markdown",
   "metadata": {},
   "source": [
    "\n",
    "## Problem 1:  EVIU and EVPI\n",
    "\n",
    "Suppose we have an overwhelming sense of exam déjà vu, and we're going to catch the Buff Bus again.  We want to decide at what time $d$ to go wait for it.  We decide to use the the linear loss function \n",
    "\n",
    "$$L(d,x)=\\begin{cases} \n",
    "\t2(x-d) & x\\geq d \\\\\n",
    "\t4(d-x) & x <d\n",
    "    \t\\end{cases}$$.\n",
    "        \n",
    "As in the exam, we model the Buff Bus arrival times as an exponential random variable $X$ that arrives on average once per hour, so they have probability density function of $f(x)=e^{-x}$ for $x>0$ (note: this has mean of $E_X[x]=1$).\n",
    "\n",
    "The result from the exam was that the *expected loss* of the decision $d$ was:\n",
    "$$E_X[L(d,x)] = \\int_0^d 4(d-x)e^{-x}\\, dx + \\int_d^\\infty 2(x-d)e^{-x}\\, dx$$\n",
    "\n",
    "...we maybe tried to avoid doing that integral and reasoned through it, because often such an integral is messy and may require numerical methods.\n",
    "\n",
    "\n",
    "### (1a)  A Loss function:\n",
    "\n",
    "Create a `ExpectedLoss` object or function that takes as input 3 arguments: \n",
    "    - a decision $d$\n",
    "    - a loss function $L(d,x)$\n",
    "    - a probability density $f(x)$\n",
    "\n",
    "and returns the value of $$E_X[L(d,x)]=\\int_{-\\infty}^\\infty L(d,x) f(x) \\, dx$$.\n",
    "\n",
    "Inside your function, you can and should use the scipy.integrate function with documentation: \n",
    "https://docs.scipy.org/doc/scipy/reference/tutorial/integrate.html.\n",
    "\n"
   ]
  },
  {
   "cell_type": "code",
   "execution_count": 149,
   "metadata": {},
   "outputs": [],
   "source": [
    "def ExpectedLoss(d, loss_function, prob_density):\n",
    "    return integrate.quad(lambda x: loss_function(d, x)*prob_density(x), 0, d)[0] + integrate.quad(lambda x: loss_function(d, x)*prob_density(x), d, np.inf)[0]"
   ]
  },
  {
   "cell_type": "markdown",
   "metadata": {},
   "source": [
    "## (1b) A quick check:\n",
    "Double check that your integrate code is working well on the infinite support of the exponential random variable.  Check that you in fact get $$E[X]=\\int_0^\\infty e^{-x} \\, dx=1$$ from your usage of `integrate` above."
   ]
  },
  {
   "cell_type": "code",
   "execution_count": 150,
   "metadata": {
    "scrolled": true
   },
   "outputs": [
    {
     "name": "stdout",
     "output_type": "stream",
     "text": [
      "Integral evaluates to: 1.0000000000000002\n"
     ]
    }
   ],
   "source": [
    "f= lambda x:np.exp(-x)\n",
    "L = lambda d, x:1\n",
    "print(\"Integral evaluates to:\", ExpectedLoss(np.inf, L, f))"
   ]
  },
  {
   "cell_type": "markdown",
   "metadata": {},
   "source": [
    "## (1c) Scoring Decisions:\n",
    "Our goal is typically to compare the losses of 3 decision types:\n",
    " - the decision made \"ignoring uncertainty,\" using $d=E[X]$\n",
    " - the decision made with \"perfect information\", using $d=x$\n",
    " - the decision made with uncertainty to minimize loss, the Bayes' decision.\n",
    " \n",
    "1. Use your function in (1a) to compute the expected loss when ignoring uncertainty.\n",
    "\n",
    "2. Use your function in (1a) or reason to compute the expected loss with perfect information.\n",
    "\n",
    "3. Use your function in (1a) to *plot* the expected loss for a fine grid (`linspace`) of $d$ values from 0 to 10.  Given this plot, visually estimate the optimal decision $d$ and it's expected loss."
   ]
  },
  {
   "cell_type": "code",
   "execution_count": 152,
   "metadata": {},
   "outputs": [
    {
     "name": "stdout",
     "output_type": "stream",
     "text": [
      "Expected loss ignoring uncertainty: 2.207276647028654\n",
      "Expected loss with perfect information is zero. All we have to do here is look at the loss function to calculate this when x = d. We don't need to integrate.\n"
     ]
    },
    {
     "data": {
      "text/plain": [
       "[<matplotlib.lines.Line2D at 0x1e3b1e50fa0>]"
      ]
     },
     "execution_count": 152,
     "metadata": {},
     "output_type": "execute_result"
    },
    {
     "data": {
      "image/png": "[encoded data removed]",
      "text/plain": [
       "<Figure size 432x288 with 1 Axes>"
      ]
     },
     "metadata": {
      "needs_background": "light"
     },
     "output_type": "display_data"
    }
   ],
   "source": [
    "def loss_function(d, x):\n",
    "    if x >= d:\n",
    "        return 2*(x - d)\n",
    "    else:\n",
    "        return 4*(d - x)\n",
    "f= lambda x:np.exp(-x)\n",
    "print(\"Expected loss ignoring uncertainty:\", ExpectedLoss(1, loss_function, f))\n",
    "print(\"Expected loss with perfect information is zero. All we have to do here is look at the loss function to calculate this when x = d. We don't need to integrate.\")\n",
    "x = np.arange(0,10,0.01)\n",
    "d_values = []\n",
    "for i in range(len(x)):\n",
    "    d_values.append(ExpectedLoss(x[i], loss_function, f))\n",
    "plt.plot(x, d_values)"
   ]
  },
  {
   "cell_type": "markdown",
   "metadata": {},
   "source": [
    "The optimal decision $d$ seems to be around 0.5 with an expected loss of around 2."
   ]
  },
  {
   "cell_type": "markdown",
   "metadata": {},
   "source": [
    "## (1d) Optimizing Decisions:\n",
    "Since the Bayes' decision should be the minimum of the function in (1a), we can use another numeric method in Python to find it exactly!  Check out `scipy.optimize` https://docs.scipy.org/doc/scipy/reference/tutorial/optimize.html and use it to find the Bayes' decision.\n",
    "\n",
    "For convenience, you may restructure your code in (1a) to get the loss function while only $d$ as taken as an input."
   ]
  },
  {
   "cell_type": "code",
   "execution_count": 156,
   "metadata": {},
   "outputs": [
    {
     "name": "stdout",
     "output_type": "stream",
     "text": [
      "      fun: 1.6218604324327122\n",
      " hess_inv: array([[0.24954617]])\n",
      "      jac: array([-6.40749931e-07])\n",
      "  message: 'Optimization terminated successfully.'\n",
      "     nfev: 14\n",
      "      nit: 6\n",
      "     njev: 7\n",
      "   status: 0\n",
      "  success: True\n",
      "        x: array([0.40546494])\n",
      "The Bayes' decision is printed as 'fun' in the above table\n"
     ]
    }
   ],
   "source": [
    "outputVariable = minimize(fun = lambda d: ExpectedLoss(d, loss_function, f), x0 = 1.6)\n",
    "print(outputVariable)\n",
    "print(\"The Bayes' decision is printed as 'fun' in the above table\")"
   ]
  },
  {
   "cell_type": "markdown",
   "metadata": {},
   "source": [
    "## (1e) Bigger Losses\n",
    "$$L_l(d,x)=\\begin{cases} \n",
    "\t20(d-x) & x \\leq d \\\\\n",
    "\t200+20(d-x) & x> d \\\\\t\t\n",
    "\t\\end{cases}$$.\n",
    "    \n",
    "Consider instead the loss function above, which contains a large jump at $x=d$.  Use your `ExpectedLoss` and/or `optimize` routines to find the Bayes' decision for the bus-waiting problem in this case, where a large amount of utility is lost as soon as $x>d$ (or we miss the bus).  Does your result here seem intuitive, given the Bayes' decision in parts (1c/1d)?"
   ]
  },
  {
   "cell_type": "code",
   "execution_count": 158,
   "metadata": {},
   "outputs": [
    {
     "name": "stdout",
     "output_type": "stream",
     "text": [
      "      fun: 46.05179266170881\n",
      " hess_inv: array([[0.05002085]])\n",
      "      jac: array([-4.76837158e-07])\n",
      "  message: 'Optimization terminated successfully.'\n",
      "     nfev: 14\n",
      "      nit: 6\n",
      "     njev: 7\n",
      "   status: 0\n",
      "  success: True\n",
      "        x: array([2.30258963])\n",
      "The Bayes' decision is printed as 'fun' in the above table\n"
     ]
    }
   ],
   "source": [
    "def nonnegative_loss_function(d, x): #modified loss function, also does not allow for negative loss when x>>>>>d\n",
    "    if x <= d:\n",
    "        if 20*(d-x) > 0:\n",
    "            return 20*(d - x)\n",
    "        else:\n",
    "            return 0\n",
    "    else:\n",
    "        if 200 + 20*(d-x) > 0:\n",
    "            return 200 + 20*(d - x)\n",
    "        else:\n",
    "            return 0\n",
    "outputVariable2 = minimize(fun = lambda d: ExpectedLoss(d, nonnegative_loss_function, f), x0 = 1.6)\n",
    "print(outputVariable2)\n",
    "print(\"The Bayes' decision is printed as 'fun' in the above table\")"
   ]
  },
  {
   "cell_type": "markdown",
   "metadata": {},
   "source": [
    "Our Bayes' decision value of optimal loss comes out to be a value much higher than previously in part 1d. This makes sense intuitively since now we have much more incentive to arrive earlier since we incur a major loss if we miss the buss. This also means that we incur more loss even arriving at the optimal time since this is earlier than we would have arrived in part 1d."
   ]
  },
  {
   "cell_type": "markdown",
   "metadata": {},
   "source": [
    "\n",
    "## Problem 2:  Bayesian network to model heart disease\n",
    "\n",
    "The following Bayesian network is based loosely on a study that examined heart disease risk factors in 167 elderly individuals in South Carolina.  Note that this figure uses Y and N to represent Yes and No, whereas in class we used the equivalent T and F to represent True and False Boolean values.\n",
    "\n",
    "<img src=\"http://www.cs.colorado.edu/~tonyewong/home/resources/hw05_bayesnet_heartdisease.png\" style=\"width: 650px;\"/>"
   ]
  },
  {
   "cell_type": "markdown",
   "metadata": {},
   "source": [
    "<a id='p1a'></a>\n",
    "\n",
    "### (2a) \n",
    "\n",
    "Create a `BayesNet` object to model this.  Below are the codes for the (conditional) probability `P` function and `BayesNode` class as well, that we used in class on Monday (9 March) to represent the variable nodes and calculate probabilities. You can code this however you want, subject to the following constraints:\n",
    "1. the nodes are represented using the `BayesNode` class and can work with the `P` function for probabilities,\n",
    "1. your `BayesNet` structure keeps track of which nodes are in the Bayes net, as well as\n",
    "1. which nodes are the parents/children of which other nodes.\n",
    "\n",
    "Some *suggested* skeleton codes for a class structure are given. You are free and encouraged to use the code from our in-class notebooks on Bayes Nets and Markov Models. The point of this exercise is to make sure you understand the example from class. The suggestions for methods to implement are in view of the fact that we will need to calculate some probabilities, which is going to require us to `find_node`s and `find_values` that nodes can take on."
   ]
  },
  {
   "cell_type": "code",
   "execution_count": 2,
   "metadata": {},
   "outputs": [],
   "source": [
    "## For the sake of brevity...\n",
    "T, F = True, False\n",
    "\n",
    "## From class:\n",
    "def P(var, value, evidence={}):\n",
    "    '''The probability distribution for P(var | evidence), \n",
    "    when all parent variables are known (in evidence)'''\n",
    "    if len(var.parents)==1:\n",
    "        # only one parent\n",
    "        row = evidence[var.parents[0]]\n",
    "    else:\n",
    "        # multiple parents\n",
    "        row = tuple(evidence[parent] for parent in var.parents)\n",
    "    return var.cpt[row] if value else 1-var.cpt[row]\n",
    "\n",
    "## Also from class:\n",
    "class BayesNode:\n",
    "    \n",
    "    def __init__(self, name, parents, values, cpt):\n",
    "        if isinstance(parents, str):\n",
    "            parents = parents.split()\n",
    "            \n",
    "        if len(parents)==0:\n",
    "            # if no parents, empty dict key for cpt\n",
    "            cpt = {(): cpt}\n",
    "        elif isinstance(cpt, dict):\n",
    "            # if there is only one parent, only one tuple argument\n",
    "            if cpt and isinstance(list(cpt.keys())[0], bool):\n",
    "                cpt = {(v): p for v, p in cpt.items()}\n",
    "\n",
    "        self.variable = name\n",
    "        self.parents = parents\n",
    "        self.cpt = cpt\n",
    "        self.values = values\n",
    "        self.children = []\n",
    "        \n",
    "    def __repr__(self):\n",
    "        return repr((self.variable, ' '.join(self.parents)))    \n",
    "\n",
    "    \n",
    "##===============================================##\n",
    "## Suggested codes for a BayesNet class ##\n",
    "##===============================================##\n",
    "\n",
    "class BayesNet:\n",
    "    '''Bayesian network containing only boolean-variable nodes.'''\n",
    "\n",
    "    def __init__(self, node_specs=[]):\n",
    "        '''Initialize the Bayes net by adding each of the nodes,\n",
    "        which should be a list BayesNode class objects ordered\n",
    "        from parents to children (`top` to `bottom`, from causes\n",
    "        to effects)'''\n",
    "        self.nodes = []\n",
    "        self.variables = []\n",
    "        for node_spec in node_specs:\n",
    "            self.add(*node_spec)\n",
    "                \n",
    "    def add(self, name, parents, values, cpt):\n",
    "        '''Add a new BayesNode to the BayesNet. The parents should all\n",
    "        already be in the net, and the variable itself should not be'''\n",
    "        node = BayesNode(name=name, parents=parents, values=values, cpt=cpt)\n",
    "        assert node.variable not in self.variables\n",
    "        assert all((parent in self.variables) for parent in node.parents)\n",
    "        self.nodes.append(node)\n",
    "        self.variables.append(node.variable)\n",
    "        for parent in node.parents:\n",
    "            self.find_node(parent).children.append(node)\n",
    "\n",
    "    def find_node(self, var):\n",
    "        '''Find and return the BayesNode in the net with name `var`'''\n",
    "        for n in self.nodes:\n",
    "            if n.variable == var:\n",
    "                return n\n",
    "        raise Exception(\"No such variable: {}\".format(var))\n",
    "\n",
    "    def find_values(self, var):\n",
    "        '''Return the set of possible values for variable `var`'''\n",
    "        varnode = self.find_node(var)\n",
    "        return varnode.values\n",
    "        \n",
    "    def __repr__(self):\n",
    "        return 'BayesNet({})'.format(self.nodes)\n",
    "    "
   ]
  },
  {
   "cell_type": "code",
   "execution_count": 25,
   "metadata": {},
   "outputs": [],
   "source": [
    "# Create a Bayes net with those nodes and connections\n",
    "heartDiseaseNet = BayesNet([\n",
    "    ('SmokingAndAlcohol', '', [T,F], 0.2),\n",
    "    ('ModerateExercise', '', [T,F], 0.5),\n",
    "    ('HighBloodPressure', ['SmokingAndAlcohol', 'ModerateExercise'], [T,F], {(T, T): 0.6, (T, F): 0.72, (F, T): 0.33, (F, F): 0.51}),\n",
    "    ('Atherosclerosis', '', [T,F], 0.53),\n",
    "    ('FamilyHistory', '', [T,F], 0.15),\n",
    "    ('HeartDisease', ['Atherosclerosis', 'HighBloodPressure', 'FamilyHistory'], [T,F], {(T, T, T): 0.92, (T, T, F): 0.91, (T, F, T): 0.81, (T, F, F): 0.77, (F, T, T): 0.75, (F, T, F): 0.69, (F, F, T): 0.38, (F, F, F): 0.23}),\n",
    "    ('AnginaPectoris', 'HeartDisease', [T,F], {T: 0.85, F: 0.40}),\n",
    "    ('RapidHeartbeats', 'HeartDisease', [T,F], {T: 0.99, F: 0.30})\n",
    "])"
   ]
  },
  {
   "cell_type": "code",
   "execution_count": 3,
   "metadata": {},
   "outputs": [],
   "source": [
    "examNet = BayesNet([\n",
    "    ('A', '', [T,F], 0.3),\n",
    "    ('B', '', [T,F], 0.6),\n",
    "    ('C', 'A', [T,F], {T: 0.6, F: 0.30}),\n",
    "    ('D', ['A', 'B'], [T,F], {(T, T): 0.4, (T, F): 0.5, (F, T): 0.1, (F, F): 0.2}),\n",
    "    ('E', ['B', 'D'], [T,F], {(T, T): 0.2, (T, F): 0.3, (F, T): 0.5, (F, F): 0.9})\n",
    "])"
   ]
  },
  {
   "cell_type": "code",
   "execution_count": 8,
   "metadata": {},
   "outputs": [
    {
     "name": "stdout",
     "output_type": "stream",
     "text": [
      "{True: 0.7741935483870968, False: 0.22580645161290325}\n",
      "{True: 0.4721739130434783, False: 0.5278260869565218}\n"
     ]
    }
   ],
   "source": [
    "ex = get_prob(X='A', e={'B': T, 'C': T, 'D':T, 'E':T}, bn=examNet)\n",
    "print(ex.prob)\n",
    "ex1 = get_prob(X='C', e={'D':T}, bn=examNet)\n",
    "print(ex1.prob)"
   ]
  },
  {
   "cell_type": "code",
   "execution_count": 26,
   "metadata": {},
   "outputs": [],
   "source": [
    "class Tests_Problem2(unittest.TestCase):\n",
    "    def setUp(self):\n",
    "        self.p1 = BayesNode('p1', '', [T,F], 0.3)\n",
    "        self.p2 = BayesNode('p2', '', [T,F], 0.6)\n",
    "        self.c  = BayesNode('c', ['p1', 'p2'], [T,F], {(T,T):0.1, (T,F):0.2, (F,T):0.3, (F,F):0.4})\n",
    "    def test_onenode(self):\n",
    "        self.assertEqual(P(self.p1, T), 0.3)\n",
    "    def test_twonode(self):\n",
    "        self.assertEqual(P(self.c, F, {'p1':T, 'p2':F}), 0.8)"
   ]
  },
  {
   "cell_type": "code",
   "execution_count": 27,
   "metadata": {},
   "outputs": [
    {
     "name": "stderr",
     "output_type": "stream",
     "text": [
      "..\n",
      "----------------------------------------------------------------------\n",
      "Ran 2 tests in 0.003s\n",
      "\n",
      "OK\n"
     ]
    },
    {
     "data": {
      "text/plain": [
       "<unittest.runner.TextTestResult run=2 errors=0 failures=0>"
      ]
     },
     "execution_count": 27,
     "metadata": {},
     "output_type": "execute_result"
    }
   ],
   "source": [
    "tests_to_run = unittest.TestSuite()\n",
    "tests_to_run.addTest(Tests_Problem2(\"test_onenode\"))\n",
    "tests_to_run.addTest(Tests_Problem2(\"test_twonode\"))\n",
    "unittest.TextTestRunner().run(tests_to_run)"
   ]
  },
  {
   "cell_type": "markdown",
   "metadata": {},
   "source": [
    "\n",
    "### (2b)\n",
    "\n",
    "Craft a function `get_prob(X, e, bn)` to return the **normalized** probability distribution of variable `X` in Bayes net `bn`, given the evidence `e`.  That is, return $P(X \\mid e)$. The arguments are:\n",
    "* `X` is some representation of the variable you are querying the probability distribution of. Either a string (the variable name from the `BayesNode` or a `BayesNode` object itself are good options.\n",
    "* `e` is some representation of the evidence your probability is conditioned on. When given an empty argument (or `None`) for `e`, `get_prob` should return the marginal distribution $P(X)$.\n",
    "* `bn` is your `BayesNet` object.\n",
    "\n",
    "You may do this using the `enumeration` algorithm from class (pseudocode is in the book), or by brute force (i.e., use a few `for` loops). Either way, you should be using your `BayesNet` object to keep track of all the nodes and relationships between nodes so your `get_prob` function knows these things.\n",
    "\n",
    "Suggest implementation is below, where we use the `PDF_discrete` class and its associated functions as we did in the Bayes Nets in class notebook."
   ]
  },
  {
   "cell_type": "code",
   "execution_count": 4,
   "metadata": {},
   "outputs": [],
   "source": [
    "# Solution:\n",
    "\n",
    "class PDF_discrete:\n",
    "    '''Define a discrete probability distribution function.'''\n",
    "\n",
    "    def __init__(self, varname='?', freqs=None):\n",
    "        '''Create a dictionary of values - frequency pairs,\n",
    "        then normalize the distribution to sum to 1.'''\n",
    "        self.prob = {}\n",
    "        self.varname = varname\n",
    "        self.values = []\n",
    "        if freqs:\n",
    "            for (v, p) in freqs.items():\n",
    "                self[v] = p\n",
    "        self.normalize()\n",
    "\n",
    "    def __getitem__(self, value):\n",
    "        '''Given a value, return P[value]'''\n",
    "        try:\n",
    "            return self.prob[value]\n",
    "        except KeyError:\n",
    "            return 0\n",
    "\n",
    "    def __setitem__(self, value, p):\n",
    "        '''Set P[value] = p, input argument if '''\n",
    "        if value not in self.values:\n",
    "            self.values.append(value)\n",
    "        self.prob[value] = p\n",
    "\n",
    "    def normalize(self):\n",
    "        '''Normalize the probability distribution and return it.\n",
    "        If the sum of PDF values is 0, then return a 0'''\n",
    "        total = sum(self.prob.values())\n",
    "        if not isclose(total, 1.0):\n",
    "            for value in self.prob:\n",
    "                self.prob[value] /= total\n",
    "        return self\n",
    "    \n",
    "def extend(s, var, val):\n",
    "    \"\"\"Copy the substitution s and extend it by setting var to val; return copy.\"\"\"\n",
    "    s2 = s.copy()\n",
    "    s2[var] = val\n",
    "    return s2\n",
    "\n",
    "def get_prob(X, e, bn):\n",
    "    '''Return the conditional probability distribution of variable X\n",
    "    given evidence e, from BayesNet bn. [Figure 14.9]'''\n",
    "    Q = PDF_discrete(X)\n",
    "    for xi in bn.find_values(X):\n",
    "        Q[xi] = enumerate_all(bn.variables, extend(e, X, xi), bn)\n",
    "    return Q.normalize()\n",
    "    \n",
    "def enumerate_all(variables, e, bn):\n",
    "    '''Return the sum of those entries in P(variables | e{others})\n",
    "    consistent with e, where P is the joint distribution represented\n",
    "    by bn, and e{others} means e restricted to bn's other variables\n",
    "    (the ones other than variables). Parents must precede children in variables.'''\n",
    "    if not variables:\n",
    "        return 1.0\n",
    "    Y, rest = variables[0], variables[1:]\n",
    "    Ynode = bn.find_node(Y)\n",
    "    if Y in e:\n",
    "        # Y in evidence, so we know its value and just multiply\n",
    "        \n",
    "        return P(Ynode, e[Y], e) * enumerate_all(rest, e, bn)\n",
    "    else:\n",
    "        # Y not in evidence so we have to sum (Law of Total Prob.)    \n",
    "        return sum(P(Ynode, y, e) * enumerate_all(rest, extend(e, Y, y), bn)\n",
    "                   for y in bn.find_values(Y))\n"
   ]
  },
  {
   "cell_type": "markdown",
   "metadata": {},
   "source": [
    "### (2c)\n",
    "Use your `get_prob` function to calculate the following probabilities. Print them to the screen and compare to the original Bayes net figure given to make sure the output passes these \"unit tests\".\n",
    "\n",
    "1. The marginal probability of `Family History` is $P(FH=T)=0.15$\n",
    "2. The probability of *not* experiencing `Angina Pectoris`, given `Heart Disease` is observed, is $P(Ang=F \\mid HD=T)=1-0.85=0.15$\n",
    "3. The probability of `High Blood Pressure`, given a person does `Smoke and/or use Alcohol` but does not get `Moderate Exercise`, is $P(HBP=T \\mid Sm=T, ME=F)=0.72$\n",
    "4. The probability of an arbitrary individual having Heart Disease,  $P(HD=T)$\n",
    "5. The probability that an individual does not have Heart Disease, given that Rapid Heartbeat was observed,  \n",
    "$P(HD=F∣Rapid=T)$\n",
    "6. The probability that an individual is a `Smoker/Alcohol User` if they have `Heart Disease`, $P(Sm=T \\mid HD=T)$\n",
    "7. How would you expect the probability in 6. to change if you also know the individual has `High Blood Pressure`?  Verify your hypothesis by calculating the relevant probability."
   ]
  },
  {
   "cell_type": "code",
   "execution_count": 47,
   "metadata": {},
   "outputs": [
    {
     "name": "stdout",
     "output_type": "stream",
     "text": [
      "{True: 0.2163440784303391, False: 0.7836559215696609}\n",
      "{True: 0.28205128205128205, False: 0.717948717948718}\n"
     ]
    }
   ],
   "source": [
    "p1 = get_prob(X='FamilyHistory', e={}, bn=heartDiseaseNet)\n",
    "p2 = get_prob(X='AnginaPectoris', e={'HeartDisease': T}, bn=heartDiseaseNet)\n",
    "p3 = get_prob(X='HighBloodPressure', e={'SmokingAndAlcohol': T, 'ModerateExercise': F}, bn=heartDiseaseNet)\n",
    "p4 = get_prob(X='HeartDisease', e={}, bn=heartDiseaseNet)\n",
    "p5 = get_prob(X='HeartDisease', e={'RapidHeartbeat': T}, bn=heartDiseaseNet)\n",
    "p6 = get_prob(X='SmokingAndAlcohol', e={'HeartDisease': T}, bn=heartDiseaseNet)\n",
    "p7 = get_prob(X='SmokingAndAlcohol', e={'HeartDisease': T, 'HighBloodPressure': T}, bn=heartDiseaseNet)\n",
    "print(p6.prob)\n",
    "print(p7.prob)"
   ]
  },
  {
   "cell_type": "markdown",
   "metadata": {},
   "source": [
    "I would expect it to be more likely that the individual is a smoker or alcohol user if they also have high blood pressure along with heart disease. This hypothesis is confirmed above in the print statements."
   ]
  },
  {
   "cell_type": "markdown",
   "metadata": {},
   "source": [
    "### (2d)\n",
    "Rather than exact calculations, we can also *simulate* on a Bayesian Network.  Simulate 10000 hypothetical elderly individuals from South Carolina on the given network.  Using logicals, compute the probabilities in numbers (6.) and (7.) of part (2c) and verify that they are approximately equivalent.\n",
    "\n",
    "No API is required here, but your final result should print the empirical (simulated) probabilities next to the exact theoretical results for these two outcomes from (2c)."
   ]
  },
  {
   "cell_type": "code",
   "execution_count": 61,
   "metadata": {},
   "outputs": [
    {
     "name": "stdout",
     "output_type": "stream",
     "text": [
      "[False, False, True, False, False, True, True, True]\n"
     ]
    }
   ],
   "source": [
    "#Recommended simulation structure:\n",
    "#Set up same BayesNodes or Conditional Probability Tables as in (2a)\n",
    "\n",
    "#For 10000 samples...\n",
    "\n",
    "    #Randomly sample variables from top-to-bottom on the network, where children probabilities depend on parent values\n",
    "\n",
    "    #Save them all in one large Data frame or array\n",
    "citizens = []\n",
    "for i in range(10000):\n",
    "    prob_smoker = get_prob(X='SmokingAndAlcohol', e={}, bn=heartDiseaseNet)\n",
    "    smoker = np.random.choice([True, False], p = [prob_smoker.prob[1], prob_smoker.prob[0]])\n",
    "    prob_exercise = get_prob(X='ModerateExercise', e={}, bn=heartDiseaseNet)\n",
    "    exercise = np.random.choice([True, False], p = [prob_exercise.prob[1], prob_exercise.prob[0]])\n",
    "    if smoker == True:\n",
    "        if exercise == True:\n",
    "            prob_high_BP = get_prob(X='HighBloodPressure', e={'SmokingAndAlcohol': T, 'ModerateExercise': T}, bn=heartDiseaseNet)\n",
    "            high_BP = np.random.choice([True, False], p = [prob_high_BP.prob[1], prob_high_BP.prob[0]])\n",
    "        else:\n",
    "            prob_high_BP = get_prob(X='HighBloodPressure', e={'SmokingAndAlcohol': T, 'ModerateExercise': F}, bn=heartDiseaseNet)\n",
    "            high_BP = np.random.choice([True, False], p = [prob_high_BP.prob[1], prob_high_BP.prob[0]])\n",
    "    else:\n",
    "        if exercise == True:\n",
    "            prob_high_BP = get_prob(X='HighBloodPressure', e={'SmokingAndAlcohol': F, 'ModerateExercise': T}, bn=heartDiseaseNet)\n",
    "            high_BP = np.random.choice([True, False], p = [prob_high_BP.prob[1], prob_high_BP.prob[0]])\n",
    "        else:\n",
    "            prob_high_BP = get_prob(X='HighBloodPressure', e={'SmokingAndAlcohol': F, 'ModerateExercise': F}, bn=heartDiseaseNet)\n",
    "            high_BP = np.random.choice([True, False], p = [prob_high_BP.prob[1], prob_high_BP.prob[0]])\n",
    "    prob_atherosclerosis = get_prob(X='Atherosclerosis', e={}, bn=heartDiseaseNet)\n",
    "    atherosclerosis = np.random.choice([True, False], p = [prob_atherosclerosis.prob[1], prob_atherosclerosis.prob[0]])\n",
    "    prob_FH = get_prob(X='FamilyHistory', e={}, bn=heartDiseaseNet)\n",
    "    FH = np.random.choice([True, False], p = [prob_FH.prob[1], prob_FH.prob[0]])\n",
    "    if atherosclerosis == True:\n",
    "        if high_BP == True:\n",
    "            if FH == True:\n",
    "                prob_HD = get_prob(X='HeartDisease', e={'Atherosclerosis': T, 'HighBloodPressure': T, 'FamilyHistory': T}, bn=heartDiseaseNet)\n",
    "                HD = np.random.choice([True, False], p = [prob_HD.prob[1], prob_HD.prob[0]])\n",
    "            else:\n",
    "                prob_HD = get_prob(X='HeartDisease', e={'Atherosclerosis': T, 'HighBloodPressure': T, 'FamilyHistory': F}, bn=heartDiseaseNet)\n",
    "                HD = np.random.choice([True, False], p = [prob_HD.prob[1], prob_HD.prob[0]])\n",
    "        else:\n",
    "            if FH == True:\n",
    "                prob_HD = get_prob(X='HeartDisease', e={'Atherosclerosis': T, 'HighBloodPressure': F, 'FamilyHistory': T}, bn=heartDiseaseNet)\n",
    "                HD = np.random.choice([True, False], p = [prob_HD.prob[1], prob_HD.prob[0]])\n",
    "            else:\n",
    "                prob_HD = get_prob(X='HeartDisease', e={'Atherosclerosis': T, 'HighBloodPressure': F, 'FamilyHistory': F}, bn=heartDiseaseNet)\n",
    "                HD = np.random.choice([True, False], p = [prob_HD.prob[1], prob_HD.prob[0]])\n",
    "    elif atherosclerosis == False:\n",
    "        if high_BP == True:\n",
    "            if FH == True:\n",
    "                prob_HD = get_prob(X='HeartDisease', e={'Atherosclerosis': F, 'HighBloodPressure': T, 'FamilyHistory': T}, bn=heartDiseaseNet)\n",
    "                HD = np.random.choice([True, False], p = [prob_HD.prob[1], prob_HD.prob[0]])\n",
    "            else:\n",
    "                prob_HD = get_prob(X='HeartDisease', e={'Atherosclerosis': F, 'HighBloodPressure': T, 'FamilyHistory': F}, bn=heartDiseaseNet)\n",
    "                HD = np.random.choice([True, False], p = [prob_HD.prob[1], prob_HD.prob[0]])\n",
    "        else:\n",
    "            if FH == True:\n",
    "                prob_HD = get_prob(X='HeartDisease', e={'Atherosclerosis': F, 'HighBloodPressure': F, 'FamilyHistory': T}, bn=heartDiseaseNet)\n",
    "                HD = np.random.choice([True, False], p = [prob_HD.prob[1], prob_HD.prob[0]])\n",
    "            else:\n",
    "                prob_HD = get_prob(X='HeartDisease', e={'Atherosclerosis': F, 'HighBloodPressure': F, 'FamilyHistory': F}, bn=heartDiseaseNet)\n",
    "                HD = np.random.choice([True, False], p = [prob_HD.prob[1], prob_HD.prob[0]])\n",
    "    if HD == True:\n",
    "        prob_AP = get_prob(X='AnginaPectoris', e={'HeartDisease': T}, bn=heartDiseaseNet)\n",
    "        AP = np.random.choice([True, False], p = [prob_AP.prob[1], prob_AP.prob[0]])\n",
    "        prob_RH = get_prob(X='RapidHeartbeats', e={'HeartDisease': T}, bn=heartDiseaseNet)\n",
    "        RH = np.random.choice([True, False], p = [prob_AP.prob[1], prob_AP.prob[0]])\n",
    "    else:\n",
    "        prob_AP = get_prob(X='AnginaPectoris', e={'HeartDisease': F}, bn=heartDiseaseNet)\n",
    "        AP = np.random.choice([True, False], p = [prob_AP.prob[1], prob_AP.prob[0]])\n",
    "        prob_RH = get_prob(X='RapidHeartbeats', e={'HeartDisease': F}, bn=heartDiseaseNet)\n",
    "        RH = np.random.choice([True, False], p = [prob_AP.prob[1], prob_AP.prob[0]])\n",
    "print(citizens[0])"
   ]
  },
  {
   "cell_type": "code",
   "execution_count": 66,
   "metadata": {},
   "outputs": [
    {
     "name": "stdout",
     "output_type": "stream",
     "text": [
      "Simulated probabilities: 0.2181187820319566 0.2854881266490765\n",
      "Theorhetical results: {True: 0.2163440784303391, False: 0.7836559215696609} {True: 0.28205128205128205, False: 0.717948717948718}\n"
     ]
    }
   ],
   "source": [
    "HD_count = 0\n",
    "SM_and_HD_count = 0\n",
    "SM_HD_HBP_count = 0\n",
    "HD_and_HBP_count = 0\n",
    "for i in range(10000):\n",
    "    if citizens[i][5] == True:\n",
    "        HD_count += 1\n",
    "        if citizens[i][0] == True:\n",
    "            SM_and_HD_count += 1\n",
    "            if citizens[i][2] == True:\n",
    "                SM_HD_HBP_count += 1\n",
    "        if citizens[i][2] == True:\n",
    "            HD_and_HBP_count += 1\n",
    "print(\"Simulated probabilities:\", SM_and_HD_count/HD_count, SM_HD_HBP_count/HD_and_HBP_count)\n",
    "print(\"Theorhetical results:\", p6.prob, p7.prob)"
   ]
  },
  {
   "cell_type": "code",
   "execution_count": null,
   "metadata": {},
   "outputs": [],
   "source": []
  }
 ],
 "metadata": {
  "kernelspec": {
   "display_name": "Python 3",
   "language": "python",
   "name": "python3"
  },
  "language_info": {
   "codemirror_mode": {
    "name": "ipython",
    "version": 3
   },
   "file_extension": ".py",
   "mimetype": "text/x-python",
   "name": "python",
   "nbconvert_exporter": "python",
   "pygments_lexer": "ipython3",
   "version": "3.8.3"
  }
 },
 "nbformat": 4,
 "nbformat_minor": 2
}
